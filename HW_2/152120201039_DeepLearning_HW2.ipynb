{
  "nbformat": 4,
  "nbformat_minor": 0,
  "metadata": {
    "colab": {
      "provenance": []
    },
    "kernelspec": {
      "name": "python3",
      "display_name": "Python 3"
    },
    "language_info": {
      "name": "python"
    }
  },
  "cells": [
    {
      "cell_type": "code",
      "execution_count": 20,
      "metadata": {
        "colab": {
          "base_uri": "https://localhost:8080/"
        },
        "id": "rniygEUi9603",
        "outputId": "a8a90792-d4e2-4a35-ae3b-e43de0fc8fce"
      },
      "outputs": [
        {
          "output_type": "stream",
          "name": "stdout",
          "text": [
            "\n",
            "Result:\n",
            "Predicted Label: 3\n",
            "Predicted Category: Motorbikes\n",
            "\n",
            "Number of files in training set:\n",
            "cellphone: 47 files\n",
            "flamingo: 53 files\n",
            "Motorbikes: 194 files\n",
            "\n",
            "Number of files in test set:\n",
            "cellphone: 7 files\n",
            "flamingo: 8 files\n",
            "Motorbikes: 81 files\n"
          ]
        }
      ],
      "source": [
        "#152120201039\n",
        "#Hakan YAVAS\n",
        "#IntToDL_HW2\n",
        "\n",
        "import os\n",
        "import cv2\n",
        "import numpy as np\n",
        "from scipy.spatial import distance\n",
        "from collections import Counter\n",
        "\n",
        "\n",
        "def process_images(folder):\n",
        "    cats = {'cellphone': 1, 'flamingo': 2, 'Motorbikes': 3} #Listing categories\n",
        "    xTrain, yTrain = [], []\n",
        "    countPerCategory = {} #To check how many files has been count\n",
        "\n",
        "    for cat in cats.keys():\n",
        "        path = os.path.join(folder, cat)\n",
        "        count = 0\n",
        "        for i, img_name in enumerate(os.listdir(path)):\n",
        "            image = cv2.imread(os.path.join(path, img_name)) #Reads files like image_0001.jpg and increments\n",
        "            gray = cv2.cvtColor(image, cv2.COLOR_BGR2GRAY) #changing image to gray format\n",
        "            resized = cv2.resize(gray, (128, 128)) #resizing\n",
        "            gradient = np.gradient(resized) #calculating gradient\n",
        "            vector = np.float16(gradient).flatten()\n",
        "            xTrain.append(vector)\n",
        "            yTrain.append(cats[cat])\n",
        "            count += 1\n",
        "\n",
        "        countPerCategory[cat] = count\n",
        "\n",
        "    return np.array(xTrain), np.array(yTrain), countPerCategory\n",
        "\n",
        "#KNN Function\n",
        "def KNN(xTrain, yTrain, sample_test, k, labels):\n",
        "    distances = [distance.euclidean(xTrain[i], sample_test) for i in range(len(xTrain))]\n",
        "    k_indices = np.argsort(distances)[:k]\n",
        "    k_nearest_labels = [yTrain[i] for i in k_indices]\n",
        "    most_common = Counter(k_nearest_labels).most_common(1)\n",
        "    predictedLabel = most_common[0][0]\n",
        "    predictedCategory = [category for category, label in labels.items() if label == predictedLabel][0]\n",
        "    return predictedLabel, predictedCategory\n",
        "\n",
        "\n",
        "\n",
        "xTrain, yTrain, trainFileCount = process_images('/content/train')\n",
        "sample_test, _, testFileCount = process_images('/content/test')\n",
        "\n",
        "#categories\n",
        "cats = {'cellphone': 1, 'flamingo': 2, 'Motorbikes': 3}\n",
        "\n",
        "predictedLabel, predictedCategory = KNN(xTrain, yTrain, sample_test[0], 5, cats)\n",
        "\n",
        "#Prints out results\n",
        "print(\"\\nResult:\")\n",
        "print(f\"Predicted Label: {predictedLabel}\")\n",
        "print(f\"Predicted Category: {predictedCategory}\")\n",
        "\n",
        "\n",
        "#Additional information\n",
        "print(\"\\nNumber of files in training set:\")\n",
        "for category, count in trainFileCount.items():\n",
        "    print(f\"{category}: {count} files\")\n",
        "\n",
        "print(\"\\nNumber of files in test set:\")\n",
        "for category, count in testFileCount.items():\n",
        "    print(f\"{category}: {count} files\")"
      ]
    }
  ]
}