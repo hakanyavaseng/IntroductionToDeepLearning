{
  "nbformat": 4,
  "nbformat_minor": 0,
  "metadata": {
    "colab": {
      "provenance": []
    },
    "kernelspec": {
      "name": "python3",
      "display_name": "Python 3"
    },
    "language_info": {
      "name": "python"
    }
  },
  "cells": [
    {
      "cell_type": "code",
      "execution_count": 45,
      "metadata": {
        "colab": {
          "base_uri": "https://localhost:8080/"
        },
        "id": "vqkoevotpGKI",
        "outputId": "fe794e60-8882-4ec7-9720-d8efc74e5f99"
      },
      "outputs": [
        {
          "output_type": "stream",
          "name": "stdout",
          "text": [
            "Drive already mounted at /content/drive; to attempt to forcibly remount, call drive.mount(\"/content/drive\", force_remount=True).\n"
          ]
        }
      ],
      "source": [
        "import os\n",
        "import cv2\n",
        "import numpy as np\n",
        "from sklearn.utils import shuffle\n",
        "from google.colab import drive\n",
        "drive.mount('/content/drive')"
      ]
    },
    {
      "cell_type": "code",
      "source": [
        "def convertImages(path, label):\n",
        "    images = [] #The proccessed images will be stored in here.\n",
        "    labels = [] #Labels will be stored in here.\n",
        "\n",
        "    for filename in os.listdir(path):\n",
        "        img_path = os.path.join(path, filename)\n",
        "        if img_path.endswith(\".jpg\"):\n",
        "            img = cv2.imread(img_path)\n",
        "            img = cv2.resize(img, (128, 128)) #resimler 128x128 = 16384'e çevrilir, RGB oldugu icin 3'le çarpılır = 49152\n",
        "            img_vector = img.flatten() #Convert to 1D vector\n",
        "            images.append(img_vector)\n",
        "            labels.append(label)\n",
        "\n",
        "    return np.array(images), np.array(labels)"
      ],
      "metadata": {
        "id": "2kOnh3vkW_E2"
      },
      "execution_count": 46,
      "outputs": []
    },
    {
      "cell_type": "code",
      "source": [
        "#The functions which have served in the document, in order to avoid overflow np.clip has been used.\n",
        "def tanh(x):\n",
        "    return np.tanh(x)\n",
        "\n",
        "def softplus(x):\n",
        "    return np.log(1 + np.exp(np.clip(x, -700, 700)))\n",
        "\n",
        "def mish(x):\n",
        "    return x * tanh(softplus(x))\n",
        "\n",
        "def dmish(x):\n",
        "    omega = np.exp(3*x) + 4*np.exp(2*x) + (6+4*x)*np.exp(x) + 4*(1 + x)\n",
        "    delta = 1 + pow((np.exp(x) + 1), 2)\n",
        "    derivative = np.exp(x) * omega / pow(delta, 2)\n",
        "    return derivative"
      ],
      "metadata": {
        "id": "MBwRuTUwX_YR"
      },
      "execution_count": 47,
      "outputs": []
    },
    {
      "cell_type": "code",
      "source": [
        "def trainPerceptron(inputs, t, weights, rho, iterNo, mish):\n",
        "    bias = np.c_[np.ones(inputs.shape[0]), inputs]  # Add bias\n",
        "    bias, t = shuffle(bias, t, random_state=42)    # Shuffle\n",
        "    n = bias.shape[1] #n is the # of features of perceptron added with 1\n",
        "\n",
        "    # training loop for perceptron\n",
        "    for _ in range(iterNo):\n",
        "        for i in range(bias.shape[0]):\n",
        "            prediction = mish(np.dot(bias[i], weights)) #in order to use mish function in document, mish arguments has been added to functions sign\n",
        "            # Update weights based on the perceptron learning algorithm\n",
        "            weights += rho * (t[i] - prediction) * bias[i]\n",
        "\n",
        "    return weights\n"
      ],
      "metadata": {
        "id": "xof2rSG1W838"
      },
      "execution_count": 48,
      "outputs": []
    },
    {
      "cell_type": "code",
      "source": [
        "mainFolder = \"/content\"\n",
        "\n",
        "#loads train data with using convertImages.\n",
        "xTrainFlamingo, yTrainFlamingo = convertImages(os.path.join(mainFolder, \"train\", \"flamingo\"), label=0)\n",
        "xTrainPizza, yTrainPizza = convertImages(os.path.join(mainFolder, \"train\", \"pizza\"), label=1)\n",
        "\n",
        "#loads test data  with using convertImages.\n",
        "xTestFlamingo, yTestFlamingo = convertImages(os.path.join(mainFolder, \"test\", \"flamingo\"), label=0)\n",
        "xTestPizza, yTestPizza = convertImages(os.path.join(mainFolder, \"test\", \"pizza\"), label=1)\n",
        "\n",
        "\n",
        "#the train data which is loaded separetly is being concatenating.\n",
        "xTrain = np.concatenate((xTrainFlamingo, xTrainPizza), axis=0)\n",
        "yTrain = np.concatenate((yTrainFlamingo, yTrainPizza), axis=0)\n",
        "\n",
        "#the test data which is loaded separetly is being concatenating.\n",
        "xTest = np.concatenate((xTestFlamingo, xTestPizza), axis=0)\n",
        "yTest = np.concatenate((yTestFlamingo, yTestPizza), axis=0)\n",
        "\n",
        "# Add bias\n",
        "xTrainsBias = np.c_[np.ones(xTrain.shape[0]), xTrain]\n",
        "xTestsBias = np.c_[np.ones(xTest.shape[0]), xTest]\n",
        "\n",
        "#weights are being created randomly by using np.random\n",
        "weights = np.random.rand(xTrainsBias.shape[1] +1) #adding 1 to get same dimension\n",
        "\n",
        "rho = 0.0001\n",
        "iterNo = 1000\n",
        "\n",
        "weights = trainPerceptron(xTrainsBias, yTrain, weights, rho, iterNo, mish) # trainPerceptron call\n",
        "\n",
        "np.save('weights.npy', weights) #save weights\n",
        "weightsFile = np.load('weights.npy') #load weights\n",
        "\n"
      ],
      "metadata": {
        "id": "wcPGJYAGZZeq"
      },
      "execution_count": 49,
      "outputs": []
    },
    {
      "cell_type": "code",
      "source": [
        "def testPerceptron(tempTest, weights, activation_function):\n",
        "    # Add bias term to the test sample\n",
        "    test_bias = np.insert(tempTest, 0, 1)\n",
        "\n",
        "    # Calculate the predicted class (0 or 1) using Mish activation function\n",
        "    prediction = int(activation_function(np.dot(test_bias, weights)) > 0)\n",
        "\n",
        "    return prediction\n",
        "\n",
        "# Test the perceptron and calculate accuracy\n",
        "correctPredictions = 0\n",
        "totalSamples = xTestsBias.shape[0]\n",
        "\n",
        "for i in range(totalSamples):\n",
        "    prediction = testPerceptron(xTestsBias[i], weightsFile, mish)\n",
        "    if prediction == yTest[i]:\n",
        "        correctPredictions += 1\n",
        "\n",
        "accuracy = correctPredictions / totalSamples\n",
        "print(\"Accuracy: {:.2f}%\".format(accuracy * 100))\n"
      ],
      "metadata": {
        "colab": {
          "base_uri": "https://localhost:8080/"
        },
        "id": "YU0vzgi5ZdbG",
        "outputId": "2ec9a6b9-203a-4a8e-9ade-63555660b574"
      },
      "execution_count": 50,
      "outputs": [
        {
          "output_type": "stream",
          "name": "stdout",
          "text": [
            "Accuracy: 57.14%\n"
          ]
        }
      ]
    }
  ]
}